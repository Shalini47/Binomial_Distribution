{
 "cells": [
  {
   "cell_type": "code",
   "execution_count": 1,
   "metadata": {},
   "outputs": [],
   "source": [
    "import numpy as np"
   ]
  },
  {
   "cell_type": "markdown",
   "metadata": {},
   "source": [
    "# Genrate N Tosses Randomly"
   ]
  },
  {
   "cell_type": "code",
   "execution_count": 8,
   "metadata": {},
   "outputs": [],
   "source": [
    "N= np.random.randint(8,11,10)"
   ]
  },
  {
   "cell_type": "code",
   "execution_count": 9,
   "metadata": {},
   "outputs": [
    {
     "data": {
      "text/plain": [
       "array([ 8,  9,  9,  8,  9, 10,  8,  9,  8,  9])"
      ]
     },
     "execution_count": 9,
     "metadata": {},
     "output_type": "execute_result"
    }
   ],
   "source": [
    "N"
   ]
  },
  {
   "cell_type": "markdown",
   "metadata": {},
   "source": [
    "# Genrate K Occurance Randomly"
   ]
  },
  {
   "cell_type": "code",
   "execution_count": 10,
   "metadata": {},
   "outputs": [],
   "source": [
    "K=np.random.randint(1,8,10)"
   ]
  },
  {
   "cell_type": "code",
   "execution_count": 11,
   "metadata": {},
   "outputs": [
    {
     "data": {
      "text/plain": [
       "array([2, 3, 4, 7, 1, 2, 1, 1, 4, 2])"
      ]
     },
     "execution_count": 11,
     "metadata": {},
     "output_type": "execute_result"
    }
   ],
   "source": [
    "K"
   ]
  },
  {
   "cell_type": "markdown",
   "metadata": {},
   "source": [
    "# Calucation of Factorial using Recursion"
   ]
  },
  {
   "cell_type": "code",
   "execution_count": 12,
   "metadata": {},
   "outputs": [],
   "source": [
    "def Fact(N):\n",
    "    if(N==0 | N==1):\n",
    "        return 1\n",
    "    else:\n",
    "        return N*Fact(N-1)"
   ]
  },
  {
   "cell_type": "markdown",
   "metadata": {},
   "source": [
    "# Calculation P_X_Equal_K(N,K) Function"
   ]
  },
  {
   "cell_type": "code",
   "execution_count": 23,
   "metadata": {},
   "outputs": [],
   "source": [
    "def P_X_Equal_K(N,K):\n",
    "    #coin Flip probabiity in case on unbiased coin is P=Q=0.5\n",
    "    P=Q=0.5\n",
    "    P_X_K= (P**K)*(Q**(N-K))*(Fact(N)/(Fact(K)*Fact(N-K)))\n",
    "    return P_X_K    "
   ]
  },
  {
   "cell_type": "code",
   "execution_count": 24,
   "metadata": {},
   "outputs": [
    {
     "name": "stdout",
     "output_type": "stream",
     "text": [
      " Probability of occurrence of 2 number of desired outcomes out of 8 tosses:  0.109375 \n",
      "\n",
      " Probability of occurrence of 3 number of desired outcomes out of 9 tosses:  0.1640625 \n",
      "\n",
      " Probability of occurrence of 4 number of desired outcomes out of 9 tosses:  0.24609375 \n",
      "\n",
      " Probability of occurrence of 7 number of desired outcomes out of 8 tosses:  0.03125 \n",
      "\n",
      " Probability of occurrence of 1 number of desired outcomes out of 9 tosses:  0.017578125 \n",
      "\n",
      " Probability of occurrence of 2 number of desired outcomes out of 10 tosses:  0.0439453125 \n",
      "\n",
      " Probability of occurrence of 1 number of desired outcomes out of 8 tosses:  0.03125 \n",
      "\n",
      " Probability of occurrence of 1 number of desired outcomes out of 9 tosses:  0.017578125 \n",
      "\n",
      " Probability of occurrence of 4 number of desired outcomes out of 8 tosses:  0.2734375 \n",
      "\n",
      " Probability of occurrence of 2 number of desired outcomes out of 9 tosses:  0.0703125 \n",
      "\n"
     ]
    }
   ],
   "source": [
    "for i in range(10):\n",
    "    print(\" Probability of occurrence of\",K[i],\"number of desired outcomes out of\",N[i],\"tosses: \",P_X_Equal_K(N[i],K[i]),\"\\n\")"
   ]
  },
  {
   "cell_type": "code",
   "execution_count": null,
   "metadata": {},
   "outputs": [],
   "source": []
  }
 ],
 "metadata": {
  "kernelspec": {
   "display_name": "Python 3",
   "language": "python",
   "name": "python3"
  },
  "language_info": {
   "codemirror_mode": {
    "name": "ipython",
    "version": 3
   },
   "file_extension": ".py",
   "mimetype": "text/x-python",
   "name": "python",
   "nbconvert_exporter": "python",
   "pygments_lexer": "ipython3",
   "version": "3.7.6"
  }
 },
 "nbformat": 4,
 "nbformat_minor": 4
}
